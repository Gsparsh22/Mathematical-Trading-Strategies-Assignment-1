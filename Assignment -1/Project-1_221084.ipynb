import pandas as pd
import yfinance as yf
import numpy as np

data=[None]*50

def calculate_metrics(index,i):
    index_data = yf.download(index, start='2010-01-01', end='2023-05-01')
    index_close_prices = index_data['Close']
    index_daily_returns = index_close_prices.pct_change()
    index_volatility = np.sqrt(252) * index_daily_returns.std()
    index_cumulative_returns = (1 + index_daily_returns).cumprod() - 1
    index_cumulative_return_mean = index_cumulative_returns.mean()
    index_roll_max = index_close_prices.cummax()
    index_daily_drawdown = index_close_prices / index_roll_max - 1
    index_max_drawdown = index_daily_drawdown.cummin()
    risk_free = 0.0
    index_sharpe_ratio = np.sqrt(252) * ((index_daily_returns.mean() - risk_free) / index_daily_returns.std())
    index_downside_returns = index_daily_returns[index_daily_returns < 0]
    index_sortino_ratio = np.sqrt(252) * ((index_daily_returns.mean() - risk_free) / index_downside_returns.std())
    
    #print("Daily Returns:")
    #print(index_daily_returns.tail())
    #print("\nVolatility:", index_volatility)
    #print("\nCumulative Returns:")
    #print(index_cumulative_returns.tail())
    #print("\nMean Cumulative Return:", index_cumulative_return_mean)
    #print("\nMax Drawdown:")
    #print(index_max_drawdown.tail())
    #print("\nSharpe Ratio:")
    #print(index_sharpe_ratio)  
    #print("\nSortino Ratio:")
    #print(index_sortino_ratio)
    
    data[i*5+0]=index_cumulative_returns.mean()
    data[i*5+1]=index_volatility
    data[i*5+2]=index_sharpe_ratio
    data[i*5+3]=index_sortino_ratio
    data[i*5+4]=index_max_drawdown.mean()

#print("Indices\n\n\n")
#print("GSPC:\n")
#calculate_metrics("^GSPC",0)
#print("\n\nFTSE 100:\n")
#calculate_metrics("^FTSE",1)
#print("\n\nNikkei 225:\n")
#calculate_metrics("^N225",2)
#print("\n\nNDX:\n")
#calculate_metrics("NDX",3)
#print("\n\nHang Seng Index:\n")
#calculate_metrics("^HSI",4)

calculate_metrics("^GSPC",0)
calculate_metrics("^FTSE",1)
calculate_metrics("^N225",2)
calculate_metrics("NDX",3)
calculate_metrics("^HSI",4)

print("Indices                 GSPC               FTSE 100           Nikkei 225              NDX          Hang Seng Index")
print("Cumulative returns",data[0],data[5],data[10],data[15],data[20])
print("Volatility        ",data[1],data[6],data[11],data[16],data[21])
print("Sharpe Ratio      ",data[2],data[7],data[12],data[17],data[22])
print("Sortiono Ratio    ",data[3],data[8],data[13],data[18],data[23])
print("Max Drawdown      ",data[4],data[9],data[14],data[19],data[24])

calculate_metrics("AAPL",5)
calculate_metrics("MSFT",6)
calculate_metrics("AMZN",7)
calculate_metrics("GOOGL",8)
calculate_metrics("TSLA",9)

print("Equity                 APPLE               MICROSOFT           AMAZON              GOOGLE          TESLA")
print("Cumulative returns",data[25],data[30],data[35],data[40],data[45])
print("Volatility        ",data[26],data[31],data[36],data[41],data[46])
print("Sharpe Ratio      ",data[27],data[32],data[37],data[42],data[47])
print("Sortiono Ratio    ",data[28],data[33],data[38],data[43],data[48])
print("Max Drawdown      ",data[29],data[34],data[39],data[44],data[49])

def calculate_list(index):
    index_data = yf.download(index, start='2010-01-01', end='2023-05-01')
    index_close_prices = index_data['Close']
    index_daily_returns = index_close_prices.pct_change()
    index_volatility = np.sqrt(252) * index_daily_returns.std()
    index_cumulative_returns = (1 + index_daily_returns).cumprod() - 1
    index_cumulative_return_mean = index_cumulative_returns.mean()
    index_roll_max = index_close_prices.cummax()
    index_daily_drawdown = index_close_prices / index_roll_max - 1
    index_max_drawdown = index_daily_drawdown.cummin()
    risk_free = 0.0
    index_sharpe_ratio = np.sqrt(252) * ((index_daily_returns.mean() - risk_free) / index_daily_returns.std())
    index_downside_returns = index_daily_returns[index_daily_returns < 0]
    index_sortino_ratio = np.sqrt(252) * ((index_daily_returns.mean() - risk_free) / index_downside_returns.std())
    
    print("Daily Returns:")
    print(index_daily_returns.tail())
    print("\nVolatility:", index_volatility)
    print("\nCumulative Returns:")
    print(index_cumulative_returns.tail())
    print("\nMean Cumulative Return:", index_cumulative_return_mean)
    print("\nMax Drawdown:")
    print(index_max_drawdown.tail())
    print("\nSharpe Ratio:")
    print(index_sharpe_ratio)  
    print("\nSortino Ratio:")
    print(index_sortino_ratio)
    
calculate_list("^GSPC")
calculate_list("^FTSE")
calculate_list("^N225")
calculate_list("NDX")
calculate_list("^HSI")
calculate_list("AAPL")
calculate_list("MSFT")
calculate_list("AMZN")
calculate_list("GOOGL")
calculate_list("TSLA")
